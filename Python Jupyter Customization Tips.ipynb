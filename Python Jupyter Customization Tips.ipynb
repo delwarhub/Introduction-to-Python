{
 "cells": [
  {
   "cell_type": "markdown",
   "id": "c8a3995a",
   "metadata": {},
   "source": [
    "# List Packages In A Console With Pip"
   ]
  },
  {
   "cell_type": "code",
   "execution_count": null,
   "id": "f3697150",
   "metadata": {},
   "outputs": [],
   "source": [
    "import pkg_resources\n",
    "installed_packages = pkg_resources.working_set\n",
    "installed_packages_list = sorted([\"%s==%s\" % (i.key, i.version)\n",
    "   for i in installed_packages])\n",
    "print(installed_packages_list)"
   ]
  },
  {
   "cell_type": "code",
   "execution_count": null,
   "id": "50e879f3",
   "metadata": {},
   "outputs": [],
   "source": [
    "installed_packages_list"
   ]
  },
  {
   "cell_type": "code",
   "execution_count": null,
   "id": "2ba52faf",
   "metadata": {},
   "outputs": [],
   "source": [
    "help(\"modules\")"
   ]
  },
  {
   "cell_type": "markdown",
   "id": "2426d2ca",
   "metadata": {},
   "source": [
    "## How To Update All Python Packages\n",
    "### Get a list of all the outdated packages\n",
    "To generate a list of all outdated packages: pip list --outdated"
   ]
  },
  {
   "cell_type": "code",
   "execution_count": null,
   "id": "48417c0b",
   "metadata": {},
   "outputs": [],
   "source": [
    "pip list --outdated"
   ]
  },
  {
   "cell_type": "code",
   "execution_count": null,
   "id": "b3e938d9",
   "metadata": {},
   "outputs": [],
   "source": [
    "pip install -r requirements.txt --upgrade"
   ]
  },
  {
   "cell_type": "code",
   "execution_count": null,
   "id": "fde2ee03",
   "metadata": {},
   "outputs": [],
   "source": [
    "pip install jupyter_contrib_nbextensions"
   ]
  },
  {
   "cell_type": "code",
   "execution_count": null,
   "id": "2f5df539",
   "metadata": {},
   "outputs": [],
   "source": [
    "pip install jupyter_nbextensions_configurator"
   ]
  },
  {
   "cell_type": "code",
   "execution_count": null,
   "id": "565b54b1",
   "metadata": {},
   "outputs": [],
   "source": [
    "pip install jupyter_contrib_nbextensions && jupyter contrib nbextension install "
   ]
  },
  {
   "cell_type": "code",
   "execution_count": null,
   "id": "1f5aa170",
   "metadata": {},
   "outputs": [],
   "source": [
    "#Activate nbextentions \n",
    "pip install jupyter_contrib_nbextensions\n",
    "jupyter contrib nbextension install --user\n",
    "jupyter nbextension enable varInspector/main"
   ]
  },
  {
   "cell_type": "code",
   "execution_count": null,
   "id": "ab62f195",
   "metadata": {},
   "outputs": [],
   "source": [
    "pip install RISE #slideshow and chockboard"
   ]
  }
 ],
 "metadata": {
  "kernelspec": {
   "display_name": "Python 3 (ipykernel)",
   "language": "python",
   "name": "python3"
  },
  "language_info": {
   "codemirror_mode": {
    "name": "ipython",
    "version": 3
   },
   "file_extension": ".py",
   "mimetype": "text/x-python",
   "name": "python",
   "nbconvert_exporter": "python",
   "pygments_lexer": "ipython3",
   "version": "3.9.5"
  },
  "varInspector": {
   "cols": {
    "lenName": 16,
    "lenType": 16,
    "lenVar": 40
   },
   "kernels_config": {
    "python": {
     "delete_cmd_postfix": "",
     "delete_cmd_prefix": "del ",
     "library": "var_list.py",
     "varRefreshCmd": "print(var_dic_list())"
    },
    "r": {
     "delete_cmd_postfix": ") ",
     "delete_cmd_prefix": "rm(",
     "library": "var_list.r",
     "varRefreshCmd": "cat(var_dic_list()) "
    }
   },
   "types_to_exclude": [
    "module",
    "function",
    "builtin_function_or_method",
    "instance",
    "_Feature"
   ],
   "window_display": false
  }
 },
 "nbformat": 4,
 "nbformat_minor": 5
}
